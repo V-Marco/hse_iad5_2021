{
 "cells": [
  {
   "cell_type": "markdown",
   "id": "african-marble",
   "metadata": {},
   "source": [
    "## Интеллектуальный анализ данных: cеминар 9\n",
    "\n",
    "## Логистическая регрессия и SVM\n",
    "\n",
    "#### План:\n",
    "1. Логистическая регрессия\n",
    "2. SVM.\n",
    "3. Ирисы Фишера. Свойства логистической регрессии и SVM\n",
    "4. Логистическая регрессия и SVM на менее приятных данных.\n",
    "5. ROC-кривая. \n",
    "6. Бонус: вывод логистической регрессии через правдоподобие\n",
    "---"
   ]
  },
  {
   "cell_type": "markdown",
   "id": "separate-gateway",
   "metadata": {},
   "source": [
    "### Логистическая регрессия"
   ]
  },
  {
   "cell_type": "markdown",
   "id": "sought-brooklyn",
   "metadata": {},
   "source": [
    "Напомним, что мы по-прежнему решаем задачу бинарной классификации, в которой целевая переменная $y$ принимает два значения: -1 и 1. На прошлом семинаре мы обсудили, что эту задачу можно решить при помощи линейного классификатора \n",
    "\n",
    "$$\n",
    "f(x_i, w) = \\mathrm{sign}\\left(\\langle x_i, w \\rangle\\right).\n",
    "$$\n",
    "\n",
    "Функция потерь для такой задачи – это сумма индикаторов того, что предсказание сделано неверно: \n",
    "\n",
    "$$Q(X, w) = \\frac{1}{\\ell}\\sum_{i = 1}^{\\ell}[y_i \\ne \\mathrm{sign}\\left(\\langle x_i, w \\rangle\\right)].$$\n",
    "\n",
    "На лекциях мы обсуждали, что эту идею можно удобно записать через функцию отступа:\n",
    "\n",
    "$$\n",
    "Q(X, w) = \\frac{1}{\\ell}\\sum_{i = 1}^{\\ell}[y_i \\langle x_i, w \\rangle < 0].\n",
    "$$\n",
    "\n",
    "Понятно, что такую функцию проблематично дифференцировать по $w$. Вместо этого будем минимизировать некоторую функцию $Q'(X, w)$, являющуюся верхней оценкой для $Q(X, w)$, и надеяться, что минимизация $Q'(X, w)$ позволит достаточно хорошо минимизировать и $Q(X, w)$.\n",
    "\n",
    "Логистическая регрессия предлагает использовать логистическую функцию потерь:\n",
    "\n",
    "$$\n",
    "Q'(X, w) = \\frac{1}{\\ell}\\sum_{i = 1}^{\\ell}\\log(1 + e^{-y_i \\langle x_i, w \\rangle}) \\rightarrow \\min_w.\n",
    "$$"
   ]
  },
  {
   "cell_type": "code",
   "execution_count": 6,
   "id": "manual-launch",
   "metadata": {},
   "outputs": [],
   "source": [
    "import numpy as np\n",
    "import pandas as pd\n",
    "import matplotlib.pyplot as plt"
   ]
  },
  {
   "cell_type": "code",
   "execution_count": 76,
   "id": "varying-mainstream",
   "metadata": {},
   "outputs": [
    {
     "data": {
      "image/png": "[encoded data removed]",
      "text/plain": [
       "<Figure size 576x432 with 1 Axes>"
      ]
     },
     "metadata": {
      "needs_background": "light"
     },
     "output_type": "display_data"
    }
   ],
   "source": [
    "x = np.concatenate((np.linspace(-3, 0, 500), np.linspace(0, 3, 500)))\n",
    "np.random.seed(123)\n",
    "y = np.ones(1000)\n",
    "w = np.ones(1000)\n",
    "M = y * x * w\n",
    "\n",
    "plt.figure(figsize = (8, 6))\n",
    "_ = plt.plot(x * w, x < 0, label = '$Q(X, w)$, zero-one loss')\n",
    "_ = plt.plot(M, np.log2(1 + np.exp(-M)), label = \"$Q'(X, w)$, logistic loss\")\n",
    "_ = plt.legend()"
   ]
  },
  {
   "cell_type": "markdown",
   "id": "fifth-closer",
   "metadata": {},
   "source": [
    "Для получения классической задачи логистической регрессии остаётся сделать один шаг и немного изменить постановку задачи. Предположим, что мы хотим решать задачу **мягкой** классификации, то есть предсказывать не метку класса, а вероятность того, что наблюдение принадлежит к классу. Понятно, что мы всегда можем перейти от мягкой классификации к жёсткой, выбрав порог принадлежности к положительному классу. "
   ]
  },
  {
   "cell_type": "markdown",
   "id": "separated-relative",
   "metadata": {},
   "source": [
    "**Задание 1.** Поясните, почему для решения задачи мягкой классификации классификатор $f(x_i, w) = \\left(\\langle x_i, w \\rangle\\right)$ – не лучший выбор. "
   ]
  },
  {
   "cell_type": "markdown",
   "id": "horizontal-teach",
   "metadata": {},
   "source": [
    "Мы можем решить названную проблему, подставив $\\left(\\langle x_i, w \\rangle\\right)$ в некоторую функцию, областью значений которой является промежуток от 0 до 1. В логистической регрессии такой функцией выступает **сигмоида**:\n",
    "\n",
    "$$\n",
    "\\sigma(x) = \\dfrac{e^x}{1 + e^x} = \\dfrac{1}{1 + e^{-x}}.\n",
    "$$"
   ]
  },
  {
   "cell_type": "markdown",
   "id": "loaded-hammer",
   "metadata": {},
   "source": [
    "**Задание 2.** Сигмоида обаладет замечательнеым свойством, которое значительно упрощает вычисление градиентов при градиентном спуске:\n",
    "\n",
    "$$\n",
    "\\sigma(x)'_x = \\sigma(x)(1 - \\sigma(x)). \n",
    "$$\n",
    "\n",
    "Покажите, что это действительно так.\n",
    "\n",
    "**Решение:**\n",
    "\n",
    "$$\n",
    "\\sigma(x)' = \\frac{e^x(1 + e^x) - e^{2x}}{(1 + e^x)^2} = \\frac{e^x}{1 + e^x}\\frac{1}{1 + e^x} = \\sigma(x)(1-\\sigma(x)).\n",
    "$$"
   ]
  },
  {
   "cell_type": "markdown",
   "id": "impressive-fetish",
   "metadata": {},
   "source": [
    "Путём хитрых математических преобразований можно показать, что при использовании сигмоиды (= при решении задачи мягкой классификации) $Q'(X, w)$ можно записать в следующем виде:\n",
    "\n",
    "$$\n",
    "Q'(X, w) = -\\frac{1}{\\ell} \\sum_{i=1}^{\\ell} [y_i = 1]\\log\\sigma(\\langle x_i, w \\rangle) + [y_i = -1](1 - \\log(\\sigma(\\langle x_i, w \\rangle))\n",
    "$$\n",
    "\n",
    "Эта функция называется log-loss или кросс-энтропией между истинной целевой переменной и предсказанными вероятностями."
   ]
  },
  {
   "cell_type": "markdown",
   "id": "armed-piano",
   "metadata": {},
   "source": [
    "Регуляризация вводится таким же образом, как это было в случае линейной регрессии. Например, функция потерь для $l$-$2$ регуляризации выглядит так:\n",
    "\n",
    "$$\n",
    "\\bar{Q}'(X, w) = Q'(X, w) + \\frac{1}{2}\\lambda\\|w\\|^2_2.\n",
    "$$"
   ]
  },
  {
   "cell_type": "markdown",
   "id": "concerned-excellence",
   "metadata": {},
   "source": [
    "### Метод опорных векторов (SVM)"
   ]
  },
  {
   "cell_type": "markdown",
   "id": "meaningful-chase",
   "metadata": {},
   "source": [
    "Метод опорных векторов – математически строго обоснованный метод, идея которого состоит в максимизации ширины разделяющей полосы между классами. Так как для подробного вывода SVM требуется уверенное владение методами квадратичной оптимизации, мы разберём только идею и практическую реализацию метода. \n",
    "\n",
    "Мы по-прежнему решаем задачу бинарной классификации и используем классификатор $f(x_i, w) = \\mathrm{sign}(\\langle x_i, w\\rangle)$. Предположим, что мы работаем с линейно разделимой выборкой. Мы хотим максимизировать отступ (расстояние от точки до разделяющей поверхности) классификатора:\n",
    "\n",
    "$$\n",
    "\\rho(x_i, \\langle x, w\\rangle) =  \\min_i\\dfrac{|{\\langle x_i, w\\rangle|}}{\\|w\\|}.\n",
    "$$\n",
    "\n",
    "Воспользуемся картинкой из Википедии, чтобы лучше понять эту идею:\n",
    "\n",
    "[<img src=\"https://upload.wikimedia.org/wikipedia/commons/thumb/7/72/SVM_margin.png/1920px-SVM_margin.png\" alt=\"drawing\" width=\"400\"/>](https://en.wikipedia.org/wiki/Support-vector_machine#/media/File:SVM_margin.png)\n",
    "\n",
    "Заметим, что при делении $f(\\cdot)$ на положительное число ответы классификатора не меняются. Поделим $w$ нашего классификатора на $\\min_i |\\langle x_i, w \\rangle|$. Тогда отступ можно переписать как\n",
    "$$\n",
    "\\rho(\\langle x_i, w\\rangle) = \\frac{1}{\\|w\\|}.\n",
    "$$\n",
    "\n",
    "Получаем задачу SVM в линейно-разделимом случае:\n",
    "$$\n",
    "\\begin{cases}\n",
    "\\|w\\|^2 \\to \\min_{w}, \\\\\n",
    "y_i(\\langle x_i, w\\rangle) \\ge 1, \\\\\n",
    "\\end{cases}\n",
    "$$\n",
    "\n",
    "Если выборка не является линейно-разделимой, то нам придётся позволить линейному классификатору допускать ошибки на некоторых наблюдениях. Тогда задача превращается в поиск оптимального выбора между максимизацией ширины разделяющей полосы и ошибок классификации:\n",
    "\n",
    "$$\n",
    "\\begin{cases}\n",
    "\\|w\\|^2 + C \\sum_{i = 1}^{\\ell} \\xi_i \\to \\min_{w, \\xi_i}, \\\\\n",
    "y_i(\\langle x_i, w\\rangle) \\ge 1 - \\xi_i, \\\\\n",
    "\\xi_i \\ge 0\n",
    "\\end{cases}\n",
    "$$\n",
    "\n",
    "$C$ – параметр, который позволяет регулировать пропорции этого выбора. Чем больше $C$, тем больше штраф за неверную классификацию.\n",
    "\n",
    "[<img src=\"https://miro.medium.com/max/1400/1*0vOVPBmYCkw-sUt77HtyGA.png\" alt=\"drawing\" width=\"800\"/>](https://towardsdatascience.com/support-vector-machine-simply-explained-fee28eba5496)\n",
    "\n",
    "Путём хитрых математических преобразований можно показать, что итоговая функция потерь SVM выглядит следующим образом:\n",
    "\n",
    "$$\n",
    "Q(X, w) = C\\sum_{i=1}^{l} \\max\\{0, 1 - y_i(\\langle x_i, w\\rangle)\\} + \\|w\\|^2 \\to \\min_w\n",
    "$$"
   ]
  },
  {
   "cell_type": "markdown",
   "id": "union-darwin",
   "metadata": {},
   "source": [
    "### Ирисы Фишера. Свойства логистической регрессии и SVM"
   ]
  },
  {
   "cell_type": "markdown",
   "id": "abroad-hamburg",
   "metadata": {},
   "source": [
    "Рассмотрим свойства логистической регрессии и метода опорных векторов на примере классического набора данных [\"Ирисы Фишера\"](https://ru.wikipedia.org/wiki/Ирисы_Фишера). Этот набор состоит из 150 наблюдений, каждое из которых представляет собой четыре измерения: длина наружной доли околоцветника (`sepal length`), ширина наружной доли околоцветника (`sepal width`), длина внутренней доли околоцветника (`petal length`), ширина внутренней доли околоцветника (`petal width`). Каждое наблюдение относится к одному из трёх классов ириса: `setosa`, `versicolor` или `virginica`. Задача состоит в том, чтобы по измерениям предсказать класс цветка. \n",
    "\n",
    "[<img src=\"https://miro.medium.com/max/1000/1*Hh53mOF4Xy4eORjLilKOwA.png\" alt=\"drawing\" width=\"800\"/>](https://miro.medium.com/max/1000/1*Hh53mOF4Xy4eORjLilKOwA.png)"
   ]
  },
  {
   "cell_type": "code",
   "execution_count": 3,
   "id": "several-bradford",
   "metadata": {},
   "outputs": [
    {
     "data": {
      "text/html": [
       "<div>\n",
       "<style scoped>\n",
       "    .dataframe tbody tr th:only-of-type {\n",
       "        vertical-align: middle;\n",
       "    }\n",
       "\n",
       "    .dataframe tbody tr th {\n",
       "        vertical-align: top;\n",
       "    }\n",
       "\n",
       "    .dataframe thead th {\n",
       "        text-align: right;\n",
       "    }\n",
       "</style>\n",
       "<table border=\"1\" class=\"dataframe\">\n",
       "  <thead>\n",
       "    <tr style=\"text-align: right;\">\n",
       "      <th></th>\n",
       "      <th>sepal length (cm)</th>\n",
       "      <th>sepal width (cm)</th>\n",
       "      <th>petal length (cm)</th>\n",
       "      <th>petal width (cm)</th>\n",
       "    </tr>\n",
       "  </thead>\n",
       "  <tbody>\n",
       "    <tr>\n",
       "      <th>0</th>\n",
       "      <td>5.1</td>\n",
       "      <td>3.5</td>\n",
       "      <td>1.4</td>\n",
       "      <td>0.2</td>\n",
       "    </tr>\n",
       "    <tr>\n",
       "      <th>1</th>\n",
       "      <td>4.9</td>\n",
       "      <td>3.0</td>\n",
       "      <td>1.4</td>\n",
       "      <td>0.2</td>\n",
       "    </tr>\n",
       "    <tr>\n",
       "      <th>2</th>\n",
       "      <td>4.7</td>\n",
       "      <td>3.2</td>\n",
       "      <td>1.3</td>\n",
       "      <td>0.2</td>\n",
       "    </tr>\n",
       "    <tr>\n",
       "      <th>3</th>\n",
       "      <td>4.6</td>\n",
       "      <td>3.1</td>\n",
       "      <td>1.5</td>\n",
       "      <td>0.2</td>\n",
       "    </tr>\n",
       "    <tr>\n",
       "      <th>4</th>\n",
       "      <td>5.0</td>\n",
       "      <td>3.6</td>\n",
       "      <td>1.4</td>\n",
       "      <td>0.2</td>\n",
       "    </tr>\n",
       "  </tbody>\n",
       "</table>\n",
       "</div>"
      ],
      "text/plain": [
       "   sepal length (cm)  sepal width (cm)  petal length (cm)  petal width (cm)\n",
       "0                5.1               3.5                1.4               0.2\n",
       "1                4.9               3.0                1.4               0.2\n",
       "2                4.7               3.2                1.3               0.2\n",
       "3                4.6               3.1                1.5               0.2\n",
       "4                5.0               3.6                1.4               0.2"
      ]
     },
     "execution_count": 3,
     "metadata": {},
     "output_type": "execute_result"
    }
   ],
   "source": [
    "from sklearn.datasets import load_iris\n",
    "data = load_iris()\n",
    "X = pd.DataFrame(data['data'], columns = data['feature_names'])\n",
    "y = data['target']\n",
    "X.head()"
   ]
  },
  {
   "cell_type": "markdown",
   "id": "velvet-macintosh",
   "metadata": {},
   "source": [
    "**Задание 1.** Перейдём к задаче бинарной классификации: будем предсказывать принадлежность цветка к виду `versicolor` против принадлежности ко всем прочим видам. Перекодируйте зависимую переменную так, чтобы цветки вида `versicolor` имели метку 1, а прочих видов – метку -1. "
   ]
  },
  {
   "cell_type": "code",
   "execution_count": 4,
   "id": "intimate-drawing",
   "metadata": {},
   "outputs": [
    {
     "data": {
      "text/plain": [
       "array([0, 0, 0, 0, 0, 0, 0, 0, 0, 0, 0, 0, 0, 0, 0, 0, 0, 0, 0, 0, 0, 0,\n",
       "       0, 0, 0, 0, 0, 0, 0, 0, 0, 0, 0, 0, 0, 0, 0, 0, 0, 0, 0, 0, 0, 0,\n",
       "       0, 0, 0, 0, 0, 0, 1, 1, 1, 1, 1, 1, 1, 1, 1, 1, 1, 1, 1, 1, 1, 1,\n",
       "       1, 1, 1, 1, 1, 1, 1, 1, 1, 1, 1, 1, 1, 1, 1, 1, 1, 1, 1, 1, 1, 1,\n",
       "       1, 1, 1, 1, 1, 1, 1, 1, 1, 1, 1, 1, 2, 2, 2, 2, 2, 2, 2, 2, 2, 2,\n",
       "       2, 2, 2, 2, 2, 2, 2, 2, 2, 2, 2, 2, 2, 2, 2, 2, 2, 2, 2, 2, 2, 2,\n",
       "       2, 2, 2, 2, 2, 2, 2, 2, 2, 2, 2, 2, 2, 2, 2, 2, 2, 2])"
      ]
     },
     "execution_count": 4,
     "metadata": {},
     "output_type": "execute_result"
    }
   ],
   "source": [
    "y"
   ]
  },
  {
   "cell_type": "code",
   "execution_count": 5,
   "id": "fancy-payday",
   "metadata": {},
   "outputs": [
    {
     "data": {
      "text/plain": [
       "array(['setosa', 'versicolor', 'virginica'], dtype='<U10')"
      ]
     },
     "execution_count": 5,
     "metadata": {},
     "output_type": "execute_result"
    }
   ],
   "source": [
    "data['target_names']"
   ]
  },
  {
   "cell_type": "code",
   "execution_count": 6,
   "id": "japanese-hawaii",
   "metadata": {},
   "outputs": [],
   "source": [
    "y[y != 1] = -1"
   ]
  },
  {
   "cell_type": "markdown",
   "id": "imported-symphony",
   "metadata": {},
   "source": [
    "**Задание 2**. Будем работать с двумя признаками: `sepal length (cm)` и `sepal width (cm)`. Отделите их в отдельную матрицу. Разделите выборку на обучающую и тестовую, долю тестовой выборки укажите равной 0.3. Отмасштабируйте выборки при помощи StandardScaler. Постройте диаграмму рассеяния по тренировочной выборке и убедитесь, что данные линейно не разделимы. "
   ]
  },
  {
   "cell_type": "code",
   "execution_count": 7,
   "id": "imperial-dealer",
   "metadata": {},
   "outputs": [],
   "source": [
    "from sklearn.model_selection import train_test_split\n",
    "from sklearn.preprocessing import StandardScaler\n",
    "np.random.seed(123)"
   ]
  },
  {
   "cell_type": "code",
   "execution_count": 8,
   "id": "metric-thriller",
   "metadata": {},
   "outputs": [
    {
     "data": {
      "text/plain": [
       "<matplotlib.collections.PathCollection at 0x7f96a3931910>"
      ]
     },
     "execution_count": 8,
     "metadata": {},
     "output_type": "execute_result"
    },
    {
     "data": {
      "image/png": "[encoded data removed]",
      "text/plain": [
       "<Figure size 432x288 with 1 Axes>"
      ]
     },
     "metadata": {
      "needs_background": "light"
     },
     "output_type": "display_data"
    }
   ],
   "source": [
    "X = X[['sepal length (cm)', 'sepal width (cm)']]\n",
    "X_train, X_test, y_train, y_test = train_test_split(X, y, test_size = 0.3)\n",
    "\n",
    "ss = StandardScaler()\n",
    "X_train = ss.fit_transform(X_train)\n",
    "X_test = ss.transform(X_test)\n",
    "\n",
    "plt.scatter(X_train[:, 0], X_train[:, 1], c = y_train)"
   ]
  },
  {
   "cell_type": "markdown",
   "id": "nominated-nightmare",
   "metadata": {},
   "source": [
    "**Задание 3.** Начнём с простого. Обучите логистическую регрессию и SVM с линейным ядром на тренировочной выборке и убедитесь, что полученные оценки весов действительно различаются. Убедитесь, что `accuracy`, возможно, не подходит в качестве метрики для данной задачи и рассчитайте `f1-меру` на тестовой выборке. Какой алгорим показал более высокое качество?"
   ]
  },
  {
   "cell_type": "code",
   "execution_count": 9,
   "id": "imperial-saskatchewan",
   "metadata": {},
   "outputs": [],
   "source": [
    "from sklearn.linear_model import LogisticRegression\n",
    "from sklearn.svm import SVC"
   ]
  },
  {
   "cell_type": "code",
   "execution_count": 10,
   "id": "combined-luther",
   "metadata": {},
   "outputs": [
    {
     "name": "stdout",
     "output_type": "stream",
     "text": [
      "[[ 0.18163349 -1.04216502]]\n",
      "[[-3.78448050e-05 -1.01771688e+00]]\n"
     ]
    }
   ],
   "source": [
    "lr = LogisticRegression()\n",
    "svm = SVC(kernel='linear')\n",
    "\n",
    "lr.fit(X_train, y_train)\n",
    "svm.fit(X_train, y_train)\n",
    "\n",
    "print(lr.coef_)\n",
    "print(svm.coef_)"
   ]
  },
  {
   "cell_type": "code",
   "execution_count": 11,
   "id": "contemporary-shopping",
   "metadata": {},
   "outputs": [
    {
     "name": "stdout",
     "output_type": "stream",
     "text": [
      "-1    65\n",
      " 1    40\n",
      "dtype: int64\n",
      "-1    35\n",
      " 1    10\n",
      "dtype: int64\n"
     ]
    }
   ],
   "source": [
    "print(pd.Series(y_train).value_counts())\n",
    "print(pd.Series(y_test).value_counts())"
   ]
  },
  {
   "cell_type": "code",
   "execution_count": 12,
   "id": "daily-offering",
   "metadata": {},
   "outputs": [
    {
     "name": "stdout",
     "output_type": "stream",
     "text": [
      "LR:  0.6956521739130435\n",
      "SVM:  0.8000000000000002\n"
     ]
    }
   ],
   "source": [
    "from sklearn.metrics import f1_score\n",
    "print('LR: ', f1_score(y_test, lr.predict(X_test)))\n",
    "print('SVM: ', f1_score(y_test, svm.predict(X_test)))"
   ]
  },
  {
   "cell_type": "markdown",
   "id": "dominant-jenny",
   "metadata": {},
   "source": [
    "Теперь посмотрим, как различаются решающие поверхности алгоритмов. "
   ]
  },
  {
   "cell_type": "markdown",
   "id": "cloudy-profit",
   "metadata": {},
   "source": [
    "Код ниже построит решающие поверхности для классификаторов."
   ]
  },
  {
   "cell_type": "code",
   "execution_count": 13,
   "id": "marine-dictionary",
   "metadata": {},
   "outputs": [
    {
     "data": {
      "image/png": "[encoded data removed]",
      "text/plain": [
       "<Figure size 720x576 with 2 Axes>"
      ]
     },
     "metadata": {
      "needs_background": "light"
     },
     "output_type": "display_data"
    }
   ],
   "source": [
    "import matplotlib.pyplot as plt\n",
    "from mlxtend.plotting import plot_decision_regions\n",
    "import matplotlib.gridspec as gridspec\n",
    "import itertools\n",
    "gs = gridspec.GridSpec(1, 2)\n",
    "\n",
    "fig = plt.figure(figsize=(10,8))\n",
    "\n",
    "labels = ['Logistic Regression', 'SVM']\n",
    "for clf, lab, grd in zip([lr, svm],\n",
    "                         labels,\n",
    "                         itertools.product([0, 1], repeat=2)):\n",
    "\n",
    "    ax = plt.subplot(gs[grd[0], grd[1]])\n",
    "    fig = plot_decision_regions(X = X_train, y = np.array(y_train), clf=clf, legend=2)\n",
    "    plt.title(lab)\n",
    "\n",
    "plt.show()"
   ]
  },
  {
   "cell_type": "markdown",
   "id": "unsigned-petite",
   "metadata": {},
   "source": [
    "Теперь изучим свойства каждого классификатора по-отдельности. Начнём с логистической регрессии.\n",
    "\n",
    "**Задание 3.** Обучите три различные логистические регрессии с разным параметром регуляризации $\\alpha$ (обратите внимание, что в реализации `sklearn` $C = 1/\\alpha$). Как изменяется разделяющая поверхность в зависимости от $\\alpha$?"
   ]
  },
  {
   "cell_type": "code",
   "execution_count": 14,
   "id": "happy-origin",
   "metadata": {},
   "outputs": [],
   "source": [
    "C = [0.01, 0.05, 10]\n",
    "# ConvergenceWarning\n",
    "lr1 = LogisticRegression(C = C[0])\n",
    "lr2 = LogisticRegression(C = C[1])\n",
    "lr3 = LogisticRegression(C = C[2])"
   ]
  },
  {
   "cell_type": "code",
   "execution_count": 16,
   "id": "victorian-danger",
   "metadata": {},
   "outputs": [
    {
     "data": {
      "image/png": "[encoded data removed]",
      "text/plain": [
       "<Figure size 1080x576 with 3 Axes>"
      ]
     },
     "metadata": {
      "needs_background": "light"
     },
     "output_type": "display_data"
    }
   ],
   "source": [
    "import matplotlib.pyplot as plt\n",
    "from mlxtend.plotting import plot_decision_regions\n",
    "import matplotlib.gridspec as gridspec\n",
    "import itertools\n",
    "gs = gridspec.GridSpec(1, 3)\n",
    "\n",
    "fig = plt.figure(figsize=(15,8))\n",
    "\n",
    "labels = ['C = 0.01', 'C = 0.05', 'C = 10']\n",
    "for clf, lab, grd in zip([lr1, lr2, lr3],\n",
    "                         labels,\n",
    "                         itertools.product([0, 1, 2], repeat=2)):\n",
    "    clf.fit(X_train, y_train)\n",
    "    ax = plt.subplot(gs[grd[0], grd[1]])\n",
    "    fig = plot_decision_regions(X = X_train, y = np.array(y_train), clf=clf, legend=2)\n",
    "    plt.title(lab)\n",
    "\n",
    "plt.show()"
   ]
  },
  {
   "cell_type": "markdown",
   "id": "resident-store",
   "metadata": {},
   "source": [
    "**Задание 4.** Теперь попробуем понять, что происходит при решении задачи мягкой классификации. Выведите долю положительных наблюдений целевой переменной тренировочной выборки. Используя метод `predict_proba()`, сделайте предсказание по всей тренировочной выборке и найдите среднюю оценку вероятности принадлежности к положительному классу. Сравните полученную долю и среднюю предсказанную вероятность положительного класса. Как это можно объяснить? (подробный ответ в бонусной части в конце семинара). "
   ]
  },
  {
   "cell_type": "code",
   "execution_count": 17,
   "id": "instructional-reminder",
   "metadata": {},
   "outputs": [
    {
     "data": {
      "text/plain": [
       "0.38095238095238093"
      ]
     },
     "execution_count": 17,
     "metadata": {},
     "output_type": "execute_result"
    }
   ],
   "source": [
    "(y_train == 1).sum() / len(y_train)"
   ]
  },
  {
   "cell_type": "code",
   "execution_count": 21,
   "id": "loving-washer",
   "metadata": {},
   "outputs": [
    {
     "data": {
      "text/plain": [
       "0.3809522219023627"
      ]
     },
     "execution_count": 21,
     "metadata": {},
     "output_type": "execute_result"
    }
   ],
   "source": [
    "lr.predict_proba(X_train)[:, 1].mean()"
   ]
  },
  {
   "cell_type": "markdown",
   "id": "handy-bolivia",
   "metadata": {},
   "source": [
    "Перейдём к SVM.\n",
    "\n",
    "**Задание 5.** Обучите три SVM с линейным ядром с разным параметром регуляризации $C$. Как изменяется разделяющая поверхность в зависимости от $C$?"
   ]
  },
  {
   "cell_type": "code",
   "execution_count": 22,
   "id": "patent-chess",
   "metadata": {},
   "outputs": [],
   "source": [
    "C = [0.04, 0.05, 1]\n",
    "\n",
    "svc1 = SVC(C = C[0], kernel = 'linear')\n",
    "svc2 = SVC(C = C[1], kernel = 'linear')\n",
    "svc3 = SVC(C = C[2], kernel = 'linear')"
   ]
  },
  {
   "cell_type": "code",
   "execution_count": 24,
   "id": "local-revolution",
   "metadata": {},
   "outputs": [
    {
     "data": {
      "image/png": "[encoded data removed]",
      "text/plain": [
       "<Figure size 1080x576 with 3 Axes>"
      ]
     },
     "metadata": {
      "needs_background": "light"
     },
     "output_type": "display_data"
    }
   ],
   "source": [
    "import matplotlib.pyplot as plt\n",
    "from mlxtend.plotting import plot_decision_regions\n",
    "import matplotlib.gridspec as gridspec\n",
    "import itertools\n",
    "gs = gridspec.GridSpec(1, 3)\n",
    "\n",
    "fig = plt.figure(figsize=(15,8))\n",
    "\n",
    "labels = ['C = 0.04', 'C = 0.05', 'C = 1']\n",
    "for clf, lab, grd in zip([svc1, svc2, svc3],\n",
    "                         labels,\n",
    "                         itertools.product([0, 1, 2], repeat=2)):\n",
    "    clf.fit(X_train, y_train)\n",
    "    ax = plt.subplot(gs[grd[0], grd[1]])\n",
    "    fig = plot_decision_regions(X = X_train, y = np.array(y_train), clf=clf, legend=2)\n",
    "    plt.title(lab)\n",
    "\n",
    "plt.show()"
   ]
  },
  {
   "cell_type": "markdown",
   "id": "aware-beach",
   "metadata": {},
   "source": [
    "### Логистическая регрессия и SVM на менее приятных данных."
   ]
  },
  {
   "cell_type": "markdown",
   "id": "identified-short",
   "metadata": {},
   "source": [
    "Мы будем работать с [набором данных](https://www.kaggle.com/piyushgoyal443/red-wine-dataset?select=wineQualityReds.csv), содержащим информацию о характеристиках вина. Каждое наблюдение принадлежит к одному из 10 категорий качества вина, и наша задача заключается в том, что предсказать эту категорию. "
   ]
  },
  {
   "cell_type": "code",
   "execution_count": 38,
   "id": "national-money",
   "metadata": {},
   "outputs": [
    {
     "data": {
      "text/html": [
       "<div>\n",
       "<style scoped>\n",
       "    .dataframe tbody tr th:only-of-type {\n",
       "        vertical-align: middle;\n",
       "    }\n",
       "\n",
       "    .dataframe tbody tr th {\n",
       "        vertical-align: top;\n",
       "    }\n",
       "\n",
       "    .dataframe thead th {\n",
       "        text-align: right;\n",
       "    }\n",
       "</style>\n",
       "<table border=\"1\" class=\"dataframe\">\n",
       "  <thead>\n",
       "    <tr style=\"text-align: right;\">\n",
       "      <th></th>\n",
       "      <th>fixed.acidity</th>\n",
       "      <th>volatile.acidity</th>\n",
       "      <th>citric.acid</th>\n",
       "      <th>residual.sugar</th>\n",
       "      <th>chlorides</th>\n",
       "      <th>free.sulfur.dioxide</th>\n",
       "      <th>total.sulfur.dioxide</th>\n",
       "      <th>density</th>\n",
       "      <th>pH</th>\n",
       "      <th>sulphates</th>\n",
       "      <th>alcohol</th>\n",
       "      <th>quality</th>\n",
       "    </tr>\n",
       "  </thead>\n",
       "  <tbody>\n",
       "    <tr>\n",
       "      <th>1</th>\n",
       "      <td>7.4</td>\n",
       "      <td>0.70</td>\n",
       "      <td>0.00</td>\n",
       "      <td>1.9</td>\n",
       "      <td>0.076</td>\n",
       "      <td>11.0</td>\n",
       "      <td>34.0</td>\n",
       "      <td>0.9978</td>\n",
       "      <td>3.51</td>\n",
       "      <td>0.56</td>\n",
       "      <td>9.4</td>\n",
       "      <td>5</td>\n",
       "    </tr>\n",
       "    <tr>\n",
       "      <th>2</th>\n",
       "      <td>7.8</td>\n",
       "      <td>0.88</td>\n",
       "      <td>0.00</td>\n",
       "      <td>2.6</td>\n",
       "      <td>0.098</td>\n",
       "      <td>25.0</td>\n",
       "      <td>67.0</td>\n",
       "      <td>0.9968</td>\n",
       "      <td>3.20</td>\n",
       "      <td>0.68</td>\n",
       "      <td>9.8</td>\n",
       "      <td>5</td>\n",
       "    </tr>\n",
       "    <tr>\n",
       "      <th>3</th>\n",
       "      <td>7.8</td>\n",
       "      <td>0.76</td>\n",
       "      <td>0.04</td>\n",
       "      <td>2.3</td>\n",
       "      <td>0.092</td>\n",
       "      <td>15.0</td>\n",
       "      <td>54.0</td>\n",
       "      <td>0.9970</td>\n",
       "      <td>3.26</td>\n",
       "      <td>0.65</td>\n",
       "      <td>9.8</td>\n",
       "      <td>5</td>\n",
       "    </tr>\n",
       "    <tr>\n",
       "      <th>4</th>\n",
       "      <td>11.2</td>\n",
       "      <td>0.28</td>\n",
       "      <td>0.56</td>\n",
       "      <td>1.9</td>\n",
       "      <td>0.075</td>\n",
       "      <td>17.0</td>\n",
       "      <td>60.0</td>\n",
       "      <td>0.9980</td>\n",
       "      <td>3.16</td>\n",
       "      <td>0.58</td>\n",
       "      <td>9.8</td>\n",
       "      <td>6</td>\n",
       "    </tr>\n",
       "    <tr>\n",
       "      <th>5</th>\n",
       "      <td>7.4</td>\n",
       "      <td>0.70</td>\n",
       "      <td>0.00</td>\n",
       "      <td>1.9</td>\n",
       "      <td>0.076</td>\n",
       "      <td>11.0</td>\n",
       "      <td>34.0</td>\n",
       "      <td>0.9978</td>\n",
       "      <td>3.51</td>\n",
       "      <td>0.56</td>\n",
       "      <td>9.4</td>\n",
       "      <td>5</td>\n",
       "    </tr>\n",
       "  </tbody>\n",
       "</table>\n",
       "</div>"
      ],
      "text/plain": [
       "   fixed.acidity  volatile.acidity  citric.acid  residual.sugar  chlorides  \\\n",
       "1            7.4              0.70         0.00             1.9      0.076   \n",
       "2            7.8              0.88         0.00             2.6      0.098   \n",
       "3            7.8              0.76         0.04             2.3      0.092   \n",
       "4           11.2              0.28         0.56             1.9      0.075   \n",
       "5            7.4              0.70         0.00             1.9      0.076   \n",
       "\n",
       "   free.sulfur.dioxide  total.sulfur.dioxide  density    pH  sulphates  \\\n",
       "1                 11.0                  34.0   0.9978  3.51       0.56   \n",
       "2                 25.0                  67.0   0.9968  3.20       0.68   \n",
       "3                 15.0                  54.0   0.9970  3.26       0.65   \n",
       "4                 17.0                  60.0   0.9980  3.16       0.58   \n",
       "5                 11.0                  34.0   0.9978  3.51       0.56   \n",
       "\n",
       "   alcohol  quality  \n",
       "1      9.4        5  \n",
       "2      9.8        5  \n",
       "3      9.8        5  \n",
       "4      9.8        6  \n",
       "5      9.4        5  "
      ]
     },
     "execution_count": 38,
     "metadata": {},
     "output_type": "execute_result"
    }
   ],
   "source": [
    "data = pd.read_csv('wineQualityReds.csv', index_col = 0)\n",
    "data.head()"
   ]
  },
  {
   "cell_type": "markdown",
   "id": "breathing-reset",
   "metadata": {},
   "source": [
    "Как указано в описании набора, в нём нет пропущенных значений, и все переменные являются непрерывными. Целевая переменная – `quality`. "
   ]
  },
  {
   "cell_type": "markdown",
   "id": "independent-enlargement",
   "metadata": {},
   "source": [
    "**Задание 1.** Перейдём к задаче бинарной классификации и будем предсказывать только наиболее популярную категорию качества. Закодируйте столбец `quality` так, чтобы наиболее частая категория (это категория 5) получила метку 1, а все прочие категории – метку -1."
   ]
  },
  {
   "cell_type": "code",
   "execution_count": 39,
   "id": "hybrid-palmer",
   "metadata": {},
   "outputs": [],
   "source": [
    "qual = data['quality'].copy()\n",
    "qual[qual != 5] = -1\n",
    "qual[qual == 5] = 1"
   ]
  },
  {
   "cell_type": "markdown",
   "id": "lasting-atlas",
   "metadata": {},
   "source": [
    "**Задание 2.** Разделите признаки и целевую переменную. Разделите выборку на тренировочную и тестовую, долю тестовой выборки укажите равной 0.3. При помощи `StandardScaler` отмасштабируйте тренировочную и тестовую выборки. "
   ]
  },
  {
   "cell_type": "code",
   "execution_count": 41,
   "id": "organized-garage",
   "metadata": {},
   "outputs": [],
   "source": [
    "from sklearn.model_selection import train_test_split\n",
    "from sklearn.preprocessing import StandardScaler\n",
    "np.random.seed(123)\n",
    "\n",
    "X_train, X_test, y_train, y_test = train_test_split(data.drop('quality', axis = 1), qual)\n",
    "\n",
    "ss = StandardScaler()\n",
    "X_train = ss.fit_transform(X_train)\n",
    "X_test = ss.transform(X_test)"
   ]
  },
  {
   "cell_type": "code",
   "execution_count": null,
   "id": "administrative-class",
   "metadata": {},
   "outputs": [],
   "source": []
  },
  {
   "cell_type": "markdown",
   "id": "southern-poetry",
   "metadata": {},
   "source": [
    "**Задание 3.** При помощи кросс-валидации (параметры выберите сами) подберите оптимальные значения коэффициентов регуляризации для логистической регрессии и SVM с линейным ядром. Обучите модели с этими параметрами. Убедитесь, что доля правильных ответов – не лучший вариант для нашей задачи и рассчитайте F-меру на тестовой выборке. Какой алгоритм показал себя лучше? \n",
    "\n",
    " **Бонус для самых отважных:** качество работы SVM можно улучшить за счёт применения ядер, после чего разделяющая поверхность становится нелинейной. Если вам интересно, попросите семинариста рассказать об этом подробнее.  "
   ]
  },
  {
   "cell_type": "code",
   "execution_count": 47,
   "id": "driving-soldier",
   "metadata": {},
   "outputs": [],
   "source": [
    "from sklearn.model_selection import cross_validate\n",
    "\n",
    "scores_lr = []\n",
    "scores_svm = []\n",
    "\n",
    "for c in np.arange(0.1, 10, 1):\n",
    "    lr = LogisticRegression(C = c)\n",
    "    svm = SVC(C = c, kernel = 'linear')\n",
    "    \n",
    "    cv_lr = cross_validate(lr, X_train, y_train, cv = 5, scoring = 'f1')['test_score']\n",
    "    cv_svm = cross_validate(svm, X_train, y_train, cv = 5, scoring = 'f1')['test_score']\n",
    "    \n",
    "    scores_lr.append(cv_lr.mean())\n",
    "    scores_svm.append(cv_svm.mean())"
   ]
  },
  {
   "cell_type": "code",
   "execution_count": 48,
   "id": "environmental-region",
   "metadata": {},
   "outputs": [
    {
     "data": {
      "text/plain": [
       "0.1"
      ]
     },
     "execution_count": 48,
     "metadata": {},
     "output_type": "execute_result"
    }
   ],
   "source": [
    "np.arange(0.1, 10, 1)[np.argmax(scores_lr)]"
   ]
  },
  {
   "cell_type": "code",
   "execution_count": 49,
   "id": "technical-syntax",
   "metadata": {},
   "outputs": [
    {
     "data": {
      "text/plain": [
       "0.1"
      ]
     },
     "execution_count": 49,
     "metadata": {},
     "output_type": "execute_result"
    }
   ],
   "source": [
    "np.arange(0.1, 10, 1)[np.argmax(scores_svm)]"
   ]
  },
  {
   "cell_type": "code",
   "execution_count": 52,
   "id": "permanent-impossible",
   "metadata": {},
   "outputs": [
    {
     "name": "stdout",
     "output_type": "stream",
     "text": [
      "0.61875\n",
      "0.6352941176470588\n"
     ]
    }
   ],
   "source": [
    "lr = LogisticRegression(C = 0.1)\n",
    "svm = SVC(C = 1.1, kernel = 'linear')\n",
    "\n",
    "lr.fit(X_train, y_train)\n",
    "svm.fit(X_train, y_train)\n",
    "\n",
    "print(f1_score(y_test, lr.predict(X_test)))\n",
    "print(f1_score(y_test, svm.predict(X_test)))"
   ]
  },
  {
   "cell_type": "markdown",
   "id": "initial-stretch",
   "metadata": {},
   "source": [
    "### ROC-кривая"
   ]
  },
  {
   "cell_type": "markdown",
   "id": "humanitarian-nepal",
   "metadata": {},
   "source": [
    "Ранее мы узнали, что помимо accuracy в задачах классификации так же используются precision, recall и f-мера. Теперь пришло время познакомиться с ещё одной метрикой – ROC AUC.\n",
    "\n",
    "Для начала вспомним, что мы работаем с матрицей ошибок:\n",
    "\n",
    "|       | alg = 1          | alg = -1    |\n",
    "|-------| -----------------|-------------|\n",
    "|y = 1  |TP                |FN           |\n",
    "|y = -1 |FP                | TN          |\n",
    "\n",
    "Определим следующие величины:\n",
    "\n",
    "$$\n",
    "TPR \\text{ (true positive rate, recall, sensitivity)} = \\dfrac{TP}{TP + FN} –\n",
    "$$\n",
    "доля правильно предсказанных объектов положительного класса.\n",
    "\n",
    "$$\n",
    "FPR \\text{ (false positive rate, 1 - specificity)} = \\dfrac{FP}{FP + TN} –\n",
    "$$\n",
    "доля неправильно предсказанных объектов отрицательного класса.\n",
    "\n",
    "Рассмотрим задачу мягкой классификации: мы предказываем вероятности принадлежности наблюдения к положительному и отрицательному классам. Тогда TPR и FPR будут зависеть от порога для вероятности, выше которого наблюдение будет отнесено к положительному классу. ROC-кривая строится в координатах $(FPR, TPR)$ и показывает комбинации TPR и FPR при всевозможных значениях порога. \n",
    "\n",
    "Для хорошего классификатора эта кривая является вогнутой, а для идеального классификатора она будет проходить через точку $(0, 1)$ (почему?).\n",
    "\n",
    "[<img src=\"https://upload.wikimedia.org/wikipedia/commons/6/6b/Roccurves.png\" alt=\"drawing\" width=\"350\"/>](https://ru.wikipedia.org/wiki/ROC-кривая)\n",
    "\n",
    "\n",
    "\n",
    "**Задание 1.** Постройте ROC-кривую для следующей выборки."
   ]
  },
  {
   "cell_type": "code",
   "execution_count": 3,
   "id": "frequent-chemistry",
   "metadata": {},
   "outputs": [],
   "source": [
    "# True labels\n",
    "y = [-1, 1, 1, -1, 1, 1]\n",
    "# Predicted labels\n",
    "p = [0.5, 0.1, 0.2, 0.9, 0.7, 0.1]"
   ]
  },
  {
   "cell_type": "markdown",
   "id": "growing-gibraltar",
   "metadata": {},
   "source": [
    "**Решение:**\n",
    "1. Упорядочим наблюдения по убыванию ответов алгоритма."
   ]
  },
  {
   "cell_type": "code",
   "execution_count": 1,
   "id": "editorial-messaging",
   "metadata": {},
   "outputs": [],
   "source": [
    "y = [-1, 1, -1, 1, 1, 1]\n",
    "p = [0.9, 0.7, 0.5, 0.2, 0.1, 0.1]"
   ]
  },
  {
   "cell_type": "markdown",
   "id": "latter-portrait",
   "metadata": {},
   "source": [
    "2. Разобьём единичный квадрат на $(m, n)$ частей, где $m$ – число 1 в $y$, $n$ – число нулей. Стартуем из точки $(0, 0)$. Если значение $y$ равно 1, делаем шаг вверх, а если -1 – вправо. Понятно, что конечная точка нашего маршрута – точка $(1, 1)$.\n",
    "\n",
    "**(Попросите семинариста нарисовать это)**. \n",
    "\n",
    "**Важный момент:** если у нескольких объектов значения предсказаний равны, а $y$ – различны, то мы должны сделать ход \"по диагонали\". \n",
    "\n",
    "**(Попросите семинариста нарисовать это)**. "
   ]
  },
  {
   "cell_type": "markdown",
   "id": "assured-algorithm",
   "metadata": {},
   "source": [
    "3. Полученная кривая и является ROC-кривой. \n",
    "\n",
    "**(Почему этот алгоритм имеет смысл?)**"
   ]
  },
  {
   "cell_type": "code",
   "execution_count": 4,
   "id": "integral-mouse",
   "metadata": {},
   "outputs": [],
   "source": [
    "from sklearn.metrics import roc_curve\n",
    "fpr, tpr, _ = roc_curve(y, p)"
   ]
  },
  {
   "cell_type": "code",
   "execution_count": 24,
   "id": "religious-casino",
   "metadata": {},
   "outputs": [
    {
     "data": {
      "text/plain": [
       "<matplotlib.legend.Legend at 0x7f8ff2b38220>"
      ]
     },
     "execution_count": 24,
     "metadata": {},
     "output_type": "execute_result"
    },
    {
     "data": {
      "image/png": "[encoded data removed]",
      "text/plain": [
       "<Figure size 576x576 with 1 Axes>"
      ]
     },
     "metadata": {
      "needs_background": "light"
     },
     "output_type": "display_data"
    }
   ],
   "source": [
    "plt.figure(figsize = (8, 8))\n",
    "plt.plot(fpr, tpr, label = 'ROC')\n",
    "plt.axvline(0.5, linestyle = 'dotted', c = 'red')\n",
    "plt.axhline(0.25, linestyle = 'dotted', c = 'red')\n",
    "plt.axhline(0.5, linestyle = 'dotted', c = 'red')\n",
    "plt.axhline(0.75, linestyle = 'dotted', c = 'red')\n",
    "plt.axhline(1.0, linestyle = 'dotted', c = 'red')\n",
    "plt.title('Красные линии показывают разбиение единичного квадрата на m и n частей')\n",
    "plt.legend()"
   ]
  },
  {
   "cell_type": "markdown",
   "id": "steady-adventure",
   "metadata": {},
   "source": [
    "**Пример 2. [(Источник мудрости)](https://dyakonov.org/2017/07/28/auc-roc-площадь-под-кривой-ошибок/)**"
   ]
  },
  {
   "cell_type": "code",
   "execution_count": 27,
   "id": "eastern-transport",
   "metadata": {},
   "outputs": [],
   "source": [
    "p = [0.5, 0.1, 0.2, 0.6, 0.2, 0.3, 0.0]\n",
    "y = [-1,  -1,   -1, 1,    1,   1,   -1]"
   ]
  },
  {
   "cell_type": "code",
   "execution_count": null,
   "id": "forty-asbestos",
   "metadata": {},
   "outputs": [],
   "source": [
    "# Упорядоченные:\n",
    "p = [0.6, 0.5, 0.3, 0.2, 0.2, 0.1, 0.0]\n",
    "y = [1, -1, 1, -1, 1, -1, -1]"
   ]
  },
  {
   "cell_type": "code",
   "execution_count": 28,
   "id": "excellent-channels",
   "metadata": {},
   "outputs": [],
   "source": [
    "fpr, tpr, _ = roc_curve(y, p)"
   ]
  },
  {
   "cell_type": "code",
   "execution_count": 36,
   "id": "charitable-journalist",
   "metadata": {},
   "outputs": [
    {
     "data": {
      "text/plain": [
       "<matplotlib.legend.Legend at 0x7f8fd11f5940>"
      ]
     },
     "execution_count": 36,
     "metadata": {},
     "output_type": "execute_result"
    },
    {
     "data": {
      "image/png": "[encoded data removed]",
      "text/plain": [
       "<Figure size 576x576 with 1 Axes>"
      ]
     },
     "metadata": {
      "needs_background": "light"
     },
     "output_type": "display_data"
    }
   ],
   "source": [
    "plt.figure(figsize = (8, 8))\n",
    "plt.plot(fpr, tpr, label = 'ROC')\n",
    "plt.axvline(0.25, linestyle = 'dotted', c = 'red')\n",
    "plt.axvline(0.5, linestyle = 'dotted', c = 'red')\n",
    "plt.axvline(0.75, linestyle = 'dotted', c = 'red')\n",
    "plt.axvline(1.0, linestyle = 'dotted', c = 'red')\n",
    "plt.axhline(0.33, linestyle = 'dotted', c = 'red')\n",
    "plt.axhline(0.66, linestyle = 'dotted', c = 'red')\n",
    "plt.axhline(1.0, linestyle = 'dotted', c = 'red')\n",
    "plt.title('Красные линии показывают разбиение единичного квадрата на m и n частей')\n",
    "plt.legend()"
   ]
  },
  {
   "cell_type": "markdown",
   "id": "based-warehouse",
   "metadata": {},
   "source": [
    "**Задание 2.** ROC AUC – площадь под ROC-кривой – равна доле пар наблюдений $(y = 1, y = -1)$, которые алгоритм верно упорядочил. Таким образом, чем больше ROC AUC, тем качественнее отработал классификатор. Вычислите ROC AUC для построенной ROC-кривой. "
   ]
  },
  {
   "cell_type": "markdown",
   "id": "portuguese-medicaid",
   "metadata": {},
   "source": [
    "Для примера 1: $0.25 \\times 0.5$.\n",
    "\n",
    "Для примера 2: вычислите площадь фигуры. "
   ]
  },
  {
   "cell_type": "markdown",
   "id": "certain-medicaid",
   "metadata": {},
   "source": [
    "**Задание 3.** Как выглядит ROC-кривая для случайного классификатора? \n",
    "\n",
    "Диагональ квадрата. \n",
    "\n",
    "**Задание 4.** Как по ROC-кривой выбрать порог для бинаризации?\n",
    "\n",
    "Выберите точку, которая соответствует вашим предпочтениям о соотношении TPR и FPR."
   ]
  },
  {
   "cell_type": "markdown",
   "id": "silent-hungarian",
   "metadata": {},
   "source": [
    "В `sklearn` реализовано вычисление значений ROC-кривой и площади под ней. "
   ]
  },
  {
   "cell_type": "code",
   "execution_count": 61,
   "id": "extra-dubai",
   "metadata": {},
   "outputs": [],
   "source": [
    "from sklearn.metrics import roc_curve, auc"
   ]
  },
  {
   "cell_type": "markdown",
   "id": "interested-wrist",
   "metadata": {},
   "source": [
    "**Задание 5.** Постройте ROC-кривую и рассчитайте площадь под ней для логистической регрессии. О чём говорит такая форма кривой? Чтобы показать это, постройте pairplot данных."
   ]
  },
  {
   "cell_type": "code",
   "execution_count": 62,
   "id": "latter-lemon",
   "metadata": {},
   "outputs": [
    {
     "data": {
      "text/plain": [
       "LogisticRegression()"
      ]
     },
     "execution_count": 62,
     "metadata": {},
     "output_type": "execute_result"
    }
   ],
   "source": [
    "lr = LogisticRegression()\n",
    "lr.fit(X_train, y_train)"
   ]
  },
  {
   "cell_type": "code",
   "execution_count": 66,
   "id": "understood-criterion",
   "metadata": {},
   "outputs": [],
   "source": [
    "fpr, tpr, _ = roc_curve(y_test, lr.predict_proba(X_test)[:, 1])"
   ]
  },
  {
   "cell_type": "code",
   "execution_count": 68,
   "id": "shared-martin",
   "metadata": {},
   "outputs": [
    {
     "data": {
      "text/plain": [
       "[<matplotlib.lines.Line2D at 0x7f96d25c10d0>]"
      ]
     },
     "execution_count": 68,
     "metadata": {},
     "output_type": "execute_result"
    },
    {
     "data": {
      "image/png": "[encoded data removed]",
      "text/plain": [
       "<Figure size 432x288 with 1 Axes>"
      ]
     },
     "metadata": {
      "needs_background": "light"
     },
     "output_type": "display_data"
    }
   ],
   "source": [
    "plt.plot(fpr, tpr)\n",
    "plt.plot(fpr, fpr)"
   ]
  },
  {
   "cell_type": "code",
   "execution_count": 69,
   "id": "discrete-provision",
   "metadata": {},
   "outputs": [
    {
     "data": {
      "text/plain": [
       "0.7715617122049349"
      ]
     },
     "execution_count": 69,
     "metadata": {},
     "output_type": "execute_result"
    }
   ],
   "source": [
    "auc(fpr, tpr)"
   ]
  },
  {
   "cell_type": "markdown",
   "id": "advance-interest",
   "metadata": {},
   "source": [
    "### Бонус для самых смелых: вывод логистической регрессии через правдоподобие\n",
    "\n",
    "Перекодируем $y$ так, что её возможные значения – это 0 и 1. Теперь $y$ является случайной величиной из распределения Бернулли. Тогда сигмоида задаёт условную вероятность принадлежности $y$ к положительному классу:\n",
    "\n",
    "$$\n",
    "P(y_i = 1 | x_i, w) = \\sigma(x_i, w).\n",
    "$$\n",
    "\n",
    "Будем оценку коэффициентов $w$ при помощи метода максимального правдоподобия.\n",
    "\n",
    "$$\n",
    "\\mathcal{L} = \\sigma(x_i, w)^{\\sum_i y_i}(1 - \\sigma(x_i, w))^{\\sum_i 1 - y_i}\n",
    "$$\n",
    "\n",
    "Логарифмируем:\n",
    "\n",
    "$$\n",
    "\\mathcal{l} = \\sum_i y_i \\log\\sigma(x_i, w) + (1 - y_i)(1 - \\log\\sigma(x_i, w))\n",
    "$$\n",
    "\n",
    "Если теперь взять среднее, то мы получим log-loss, взятый со знаком минус. Таким образом, минимизация функции потерь в логистической регрессии эквивалентна  максимизации правдоподобия в задаче нахождения оценок $w$!"
   ]
  }
 ],
 "metadata": {
  "kernelspec": {
   "display_name": "Python 3",
   "language": "python",
   "name": "python3"
  },
  "language_info": {
   "codemirror_mode": {
    "name": "ipython",
    "version": 3
   },
   "file_extension": ".py",
   "mimetype": "text/x-python",
   "name": "python",
   "nbconvert_exporter": "python",
   "pygments_lexer": "ipython3",
   "version": "3.8.8"
  }
 },
 "nbformat": 4,
 "nbformat_minor": 5
}
